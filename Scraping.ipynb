{
  "nbformat": 4,
  "nbformat_minor": 0,
  "metadata": {
    "colab": {
      "provenance": [],
      "authorship_tag": "ABX9TyM79RfqJZexJaYZEtSbVRD/"
    },
    "kernelspec": {
      "name": "python3",
      "display_name": "Python 3"
    },
    "language_info": {
      "name": "python"
    }
  },
  "cells": [
    {
      "cell_type": "code",
      "execution_count": 1,
      "metadata": {
        "id": "4tWZom5fklgD"
      },
      "outputs": [],
      "source": [
        "import requests\n",
        "import pandas as pd\n",
        "from bs4 import BeautifulSoup"
      ]
    },
    {
      "cell_type": "code",
      "source": [
        "books=[]\n",
        "for i in range(1,3):\n",
        "  webpage=f'http://books.toscrape.com/catalogue/page-{i}.html'\n",
        "  response = requests.get(webpage)\n",
        "  response =response.content\n",
        "  soup =BeautifulSoup(response,'html.parser')\n",
        "  ol = soup.find('ol',class_='row')\n",
        "  articles = ol.find_all('article',class_='product_pod')\n",
        "\n",
        "  for article in articles:\n",
        "    image = article.find('img')\n",
        "    title = image.attrs['alt']\n",
        "    starRat = article.find('p')\n",
        "    star = starRat['class'][1]\n",
        "    price = article.find('p', class_='price_color').text.strip()\n",
        "    price = float(price[1:])\n",
        "    available = article.find('p', class_='instock availability').text.strip()\n",
        "    books.append([title, star, price, available])\n"
      ],
      "metadata": {
        "id": "Nf__DU3fk_dP"
      },
      "execution_count": 13,
      "outputs": []
    },
    {
      "cell_type": "code",
      "source": [
        "df = pd.DataFrame(books,columns=['Title','Star Rating','Price(Euros)','Stock'])\n",
        "df.to_csv('Book.csv')"
      ],
      "metadata": {
        "id": "b67NqlEAlhiO"
      },
      "execution_count": 14,
      "outputs": []
    },
    {
      "cell_type": "code",
      "source": [],
      "metadata": {
        "id": "bg2UrlOHo0px"
      },
      "execution_count": null,
      "outputs": []
    },
    {
      "cell_type": "code",
      "source": [],
      "metadata": {
        "id": "l9ZUTAqsmT5I"
      },
      "execution_count": null,
      "outputs": []
    }
  ]
}